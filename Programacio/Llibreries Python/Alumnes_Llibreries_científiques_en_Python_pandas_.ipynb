{
  "cells": [
    {
      "cell_type": "markdown",
      "id": "2bb3958f",
      "metadata": {
        "id": "2bb3958f"
      },
      "source": [
        "# Llibreries científiques en Python - pandas"
      ]
    },
    {
      "cell_type": "markdown",
      "id": "wH5t4RVAUP1j",
      "metadata": {
        "id": "wH5t4RVAUP1j"
      },
      "source": [
        "## ACTIVITAT\n",
        "\n",
        "Analitzarem els incendis al brasil entre l'any 1998 i el 2007. https://www.kaggle.com/datasets/gustavomodelli/forest-fires-in-brazil"
      ]
    },
    {
      "cell_type": "markdown",
      "id": "-2Xx3HbVUf8Q",
      "metadata": {
        "id": "-2Xx3HbVUf8Q"
      },
      "source": [
        "\n",
        "Carregueu les dades de l'arxiu amazon.csv , que podeu trobar a la carpeta data, en un dataframe. Aquest conjunt de dades recull informació sobre el nombre d'incendis en boscos a Brasil entre el 1998 i el 2017.  Mostreu el número de files del dataframe i els noms de les columnes."
      ]
    },
    {
      "cell_type": "code",
      "execution_count": 7,
      "id": "MjFc9tEdUjhL",
      "metadata": {
        "id": "MjFc9tEdUjhL"
      },
      "outputs": [],
      "source": [
        "import numpy as np # linear algebra\n",
        "import pandas as pd # data processing, CSV file I/O (e.g. pd.read_csv)\n",
        "from matplotlib import pyplot as plt"
      ]
    },
    {
      "cell_type": "code",
      "execution_count": 10,
      "id": "37d4cf7e",
      "metadata": {},
      "outputs": [
        {
          "name": "stdout",
          "output_type": "stream",
          "text": [
            "6454 5 Empty DataFrame\n",
            "Columns: [year, state, month, number, date]\n",
            "Index: []\n"
          ]
        }
      ],
      "source": [
        "\n",
        "data = pd.read_csv('amazon.csv')\n",
        "\n",
        "print(len(data),len(data.head()),data.head()[0:0])\n"
      ]
    },
    {
      "cell_type": "markdown",
      "id": "_l4bamJ6Vd2-",
      "metadata": {
        "id": "_l4bamJ6Vd2-"
      },
      "source": [
        "Agrupeu les dades carregades a l'exercici 1 per any i, per cada any, mostreu el nombre total d'incendis que hi va haver en tot el país."
      ]
    },
    {
      "cell_type": "code",
      "execution_count": 11,
      "id": "n551qWyjVenV",
      "metadata": {
        "id": "n551qWyjVenV"
      },
      "outputs": [
        {
          "data": {
            "text/plain": [
              "year\n",
              "1998    20013.971\n",
              "1999    26882.821\n",
              "2000    27351.251\n",
              "2001    29071.612\n",
              "2002    37390.600\n",
              "2003    42760.674\n",
              "2004    38453.163\n",
              "2005    35004.965\n",
              "2006    33832.161\n",
              "2007    33037.413\n",
              "2008    29378.964\n",
              "2009    39117.178\n",
              "2010    37037.449\n",
              "2011    34633.545\n",
              "2012    40084.860\n",
              "2013    35146.118\n",
              "2014    39621.183\n",
              "2015    41208.292\n",
              "2016    42212.229\n",
              "2017    36685.624\n",
              "Name: number, dtype: float64"
            ]
          },
          "execution_count": 11,
          "metadata": {},
          "output_type": "execute_result"
        }
      ],
      "source": [
        "group_year = data['number'].groupby(data['year'])\n",
        "group_year.sum()"
      ]
    },
    {
      "cell_type": "markdown",
      "id": "8Rd7JVChHv7z",
      "metadata": {
        "id": "8Rd7JVChHv7z"
      },
      "source": [
        "Mostra gràficament la lína temporal del nombre d'incendis al brasil durant els darrers anys"
      ]
    },
    {
      "cell_type": "code",
      "execution_count": 12,
      "id": "2f2jP4U6H-dO",
      "metadata": {
        "id": "2f2jP4U6H-dO"
      },
      "outputs": [
        {
          "data": {
            "text/plain": [
              "[<matplotlib.lines.Line2D at 0x2c6e76312e0>]"
            ]
          },
          "execution_count": 12,
          "metadata": {},
          "output_type": "execute_result"
        },
        {
          "data": {
            "image/png": "[encoded data removed]",
            "text/plain": [
              "<Figure size 432x288 with 1 Axes>"
            ]
          },
          "metadata": {
            "needs_background": "light"
          },
          "output_type": "display_data"
        }
      ],
      "source": [
        "plt.scatter(data['year'].drop_duplicates(keep='first'),\n",
        "            group_year.sum(),\n",
        "            color='black')\n",
        "\n",
        "plt.plot(data['year'].drop_duplicates(keep='first'),\n",
        "         group_year.sum(),\n",
        "         color='red')\n"
      ]
    },
    {
      "cell_type": "markdown",
      "id": "K2o-M6h6I7df",
      "metadata": {
        "id": "K2o-M6h6I7df"
      },
      "source": [
        "Mostreu gràficament la suma total d'incendis per mes per detectar els mesos on es produeixen més incendis per mes\n",
        "\n"
      ]
    },
    {
      "cell_type": "code",
      "execution_count": 30,
      "id": "yM02dAUQJM6N",
      "metadata": {
        "id": "yM02dAUQJM6N"
      },
      "outputs": [
        {
          "data": {
            "text/plain": [
              "<AxesSubplot:xlabel='month'>"
            ]
          },
          "execution_count": 30,
          "metadata": {},
          "output_type": "execute_result"
        },
        {
          "data": {
            "image/png": "[encoded data removed]",
            "text/plain": [
              "<Figure size 432x288 with 1 Axes>"
            ]
          },
          "metadata": {
            "needs_background": "light"
          },
          "output_type": "display_data"
        }
      ],
      "source": [
        "data.groupby(by='month').sum()['number'].sort_values(ascending=True).plot(kind='bar')\n",
        "\n"
      ]
    },
    {
      "cell_type": "markdown",
      "id": "dr-UdyojJX_W",
      "metadata": {
        "id": "dr-UdyojJX_W"
      },
      "source": [
        "Mostreu també la mitja d'incendis anual, mensual i per estat"
      ]
    },
    {
      "cell_type": "code",
      "execution_count": 35,
      "id": "2BZHM2i4JdHs",
      "metadata": {
        "id": "2BZHM2i4JdHs"
      },
      "outputs": [
        {
          "data": {
            "image/png": "[encoded data removed]",
            "text/plain": [
              "<Figure size 432x288 with 1 Axes>"
            ]
          },
          "metadata": {
            "needs_background": "light"
          },
          "output_type": "display_data"
        },
        {
          "data": {
            "image/png": "[encoded data removed]",
            "text/plain": [
              "<Figure size 432x288 with 1 Axes>"
            ]
          },
          "metadata": {
            "needs_background": "light"
          },
          "output_type": "display_data"
        },
        {
          "data": {
            "image/png": "[encoded data removed]",
            "text/plain": [
              "<Figure size 432x288 with 1 Axes>"
            ]
          },
          "metadata": {
            "needs_background": "light"
          },
          "output_type": "display_data"
        }
      ],
      "source": [
        "per_year=data.groupby(by='year').mean()['number'].sort_values(ascending=True).plot(kind='bar')\n",
        "\n",
        "plt.show()\n",
        "\n",
        "per_month=data.groupby(by='month').mean()['number'].sort_values(ascending=True).plot(kind='bar')\n",
        "\n",
        "plt.show()\n",
        "\n",
        "per_state=data.groupby(by='state').mean()['number'].sort_values(ascending=True).plot(kind='bar')\n",
        "\n",
        "plt.show()\n",
        "\n",
        "\n"
      ]
    },
    {
      "cell_type": "markdown",
      "id": "kJHXmw0iVfBB",
      "metadata": {
        "id": "kJHXmw0iVfBB"
      },
      "source": [
        "Mostreu els estats de Brasil on van enregistrar més de 800 incendis al mes, comptant els mesos de juny, juliol i agost. Heu de mostrar com a resultat una llista dels estats sense repetir.\n",
        "\n",
        "** La funció unique us pot ser útil"
      ]
    },
    {
      "cell_type": "code",
      "execution_count": 46,
      "id": "J3FnjUiTVqlD",
      "metadata": {
        "id": "J3FnjUiTVqlD"
      },
      "outputs": [
        {
          "data": {
            "text/html": [
              "<div>\n",
              "<style scoped>\n",
              "    .dataframe tbody tr th:only-of-type {\n",
              "        vertical-align: middle;\n",
              "    }\n",
              "\n",
              "    .dataframe tbody tr th {\n",
              "        vertical-align: top;\n",
              "    }\n",
              "\n",
              "    .dataframe thead th {\n",
              "        text-align: right;\n",
              "    }\n",
              "</style>\n",
              "<table border=\"1\" class=\"dataframe\">\n",
              "  <thead>\n",
              "    <tr style=\"text-align: right;\">\n",
              "      <th></th>\n",
              "      <th></th>\n",
              "      <th>year</th>\n",
              "      <th>number</th>\n",
              "    </tr>\n",
              "    <tr>\n",
              "      <th>state</th>\n",
              "      <th>month</th>\n",
              "      <th></th>\n",
              "      <th></th>\n",
              "    </tr>\n",
              "  </thead>\n",
              "  <tbody>\n",
              "    <tr>\n",
              "      <th>Acre</th>\n",
              "      <th>Agosto</th>\n",
              "      <td>4013</td>\n",
              "      <td>1799.0</td>\n",
              "    </tr>\n",
              "    <tr>\n",
              "      <th>Amazonas</th>\n",
              "      <th>Agosto</th>\n",
              "      <td>2008</td>\n",
              "      <td>861.0</td>\n",
              "    </tr>\n",
              "    <tr>\n",
              "      <th rowspan=\"2\" valign=\"top\">Bahia</th>\n",
              "      <th>Agosto</th>\n",
              "      <td>10025</td>\n",
              "      <td>4566.0</td>\n",
              "    </tr>\n",
              "    <tr>\n",
              "      <th>Julho</th>\n",
              "      <td>4019</td>\n",
              "      <td>1717.0</td>\n",
              "    </tr>\n",
              "    <tr>\n",
              "      <th rowspan=\"2\" valign=\"top\">Goias</th>\n",
              "      <th>Agosto</th>\n",
              "      <td>8030</td>\n",
              "      <td>3682.0</td>\n",
              "    </tr>\n",
              "    <tr>\n",
              "      <th>Julho</th>\n",
              "      <td>4026</td>\n",
              "      <td>1778.0</td>\n",
              "    </tr>\n",
              "    <tr>\n",
              "      <th rowspan=\"3\" valign=\"top\">Maranhao</th>\n",
              "      <th>Agosto</th>\n",
              "      <td>3999</td>\n",
              "      <td>1734.0</td>\n",
              "    </tr>\n",
              "    <tr>\n",
              "      <th>Julho</th>\n",
              "      <td>2009</td>\n",
              "      <td>972.0</td>\n",
              "    </tr>\n",
              "    <tr>\n",
              "      <th>Junho</th>\n",
              "      <td>8058</td>\n",
              "      <td>3499.0</td>\n",
              "    </tr>\n",
              "    <tr>\n",
              "      <th rowspan=\"3\" valign=\"top\">Mato Grosso</th>\n",
              "      <th>Agosto</th>\n",
              "      <td>4012</td>\n",
              "      <td>1769.0</td>\n",
              "    </tr>\n",
              "    <tr>\n",
              "      <th>Julho</th>\n",
              "      <td>4007</td>\n",
              "      <td>1794.0</td>\n",
              "    </tr>\n",
              "    <tr>\n",
              "      <th>Junho</th>\n",
              "      <td>6026</td>\n",
              "      <td>2809.0</td>\n",
              "    </tr>\n",
              "    <tr>\n",
              "      <th rowspan=\"2\" valign=\"top\">Minas Gerais</th>\n",
              "      <th>Agosto</th>\n",
              "      <td>10030</td>\n",
              "      <td>4504.0</td>\n",
              "    </tr>\n",
              "    <tr>\n",
              "      <th>Julho</th>\n",
              "      <td>2011</td>\n",
              "      <td>801.0</td>\n",
              "    </tr>\n",
              "    <tr>\n",
              "      <th rowspan=\"2\" valign=\"top\">Paraiba</th>\n",
              "      <th>Agosto</th>\n",
              "      <td>10031</td>\n",
              "      <td>4462.0</td>\n",
              "    </tr>\n",
              "    <tr>\n",
              "      <th>Julho</th>\n",
              "      <td>2017</td>\n",
              "      <td>891.0</td>\n",
              "    </tr>\n",
              "    <tr>\n",
              "      <th>Par�</th>\n",
              "      <th>Julho</th>\n",
              "      <td>8036</td>\n",
              "      <td>3684.0</td>\n",
              "    </tr>\n",
              "    <tr>\n",
              "      <th rowspan=\"3\" valign=\"top\">Piau</th>\n",
              "      <th>Agosto</th>\n",
              "      <td>6014</td>\n",
              "      <td>2718.0</td>\n",
              "    </tr>\n",
              "    <tr>\n",
              "      <th>Julho</th>\n",
              "      <td>4018</td>\n",
              "      <td>1783.0</td>\n",
              "    </tr>\n",
              "    <tr>\n",
              "      <th>Junho</th>\n",
              "      <td>2012</td>\n",
              "      <td>834.0</td>\n",
              "    </tr>\n",
              "    <tr>\n",
              "      <th rowspan=\"2\" valign=\"top\">Rio</th>\n",
              "      <th>Agosto</th>\n",
              "      <td>4019</td>\n",
              "      <td>1643.0</td>\n",
              "    </tr>\n",
              "    <tr>\n",
              "      <th>Julho</th>\n",
              "      <td>4033</td>\n",
              "      <td>1750.0</td>\n",
              "    </tr>\n",
              "    <tr>\n",
              "      <th rowspan=\"2\" valign=\"top\">Rondonia</th>\n",
              "      <th>Agosto</th>\n",
              "      <td>2013</td>\n",
              "      <td>885.0</td>\n",
              "    </tr>\n",
              "    <tr>\n",
              "      <th>Julho</th>\n",
              "      <td>2016</td>\n",
              "      <td>969.0</td>\n",
              "    </tr>\n",
              "    <tr>\n",
              "      <th rowspan=\"2\" valign=\"top\">Sao Paulo</th>\n",
              "      <th>Agosto</th>\n",
              "      <td>6020</td>\n",
              "      <td>2830.0</td>\n",
              "    </tr>\n",
              "    <tr>\n",
              "      <th>Julho</th>\n",
              "      <td>2017</td>\n",
              "      <td>802.0</td>\n",
              "    </tr>\n",
              "    <tr>\n",
              "      <th rowspan=\"3\" valign=\"top\">Tocantins</th>\n",
              "      <th>Agosto</th>\n",
              "      <td>2008</td>\n",
              "      <td>845.0</td>\n",
              "    </tr>\n",
              "    <tr>\n",
              "      <th>Julho</th>\n",
              "      <td>8019</td>\n",
              "      <td>3777.0</td>\n",
              "    </tr>\n",
              "    <tr>\n",
              "      <th>Junho</th>\n",
              "      <td>4025</td>\n",
              "      <td>1795.0</td>\n",
              "    </tr>\n",
              "  </tbody>\n",
              "</table>\n",
              "</div>"
            ],
            "text/plain": [
              "                      year  number\n",
              "state        month                \n",
              "Acre         Agosto   4013  1799.0\n",
              "Amazonas     Agosto   2008   861.0\n",
              "Bahia        Agosto  10025  4566.0\n",
              "             Julho    4019  1717.0\n",
              "Goias        Agosto   8030  3682.0\n",
              "             Julho    4026  1778.0\n",
              "Maranhao     Agosto   3999  1734.0\n",
              "             Julho    2009   972.0\n",
              "             Junho    8058  3499.0\n",
              "Mato Grosso  Agosto   4012  1769.0\n",
              "             Julho    4007  1794.0\n",
              "             Junho    6026  2809.0\n",
              "Minas Gerais Agosto  10030  4504.0\n",
              "             Julho    2011   801.0\n",
              "Paraiba      Agosto  10031  4462.0\n",
              "             Julho    2017   891.0\n",
              "Par�         Julho    8036  3684.0\n",
              "Piau         Agosto   6014  2718.0\n",
              "             Julho    4018  1783.0\n",
              "             Junho    2012   834.0\n",
              "Rio          Agosto   4019  1643.0\n",
              "             Julho    4033  1750.0\n",
              "Rondonia     Agosto   2013   885.0\n",
              "             Julho    2016   969.0\n",
              "Sao Paulo    Agosto   6020  2830.0\n",
              "             Julho    2017   802.0\n",
              "Tocantins    Agosto   2008   845.0\n",
              "             Julho    8019  3777.0\n",
              "             Junho    4025  1795.0"
            ]
          },
          "execution_count": 46,
          "metadata": {},
          "output_type": "execute_result"
        }
      ],
      "source": [
        "data2 = data.query('number > 800 and (month== \"Agosto\" or month==\"Junho\" or month ==\"Julho\")')\n",
        "data2 = data2.groupby(['state','month']).sum()\n",
        "data2"
      ]
    },
    {
      "cell_type": "markdown",
      "id": "gVlW9rB-IS5U",
      "metadata": {
        "id": "gVlW9rB-IS5U"
      },
      "source": [
        "Mostra  gràficament la distrbució d'incendis per estat durant els mesos de juny, juliol i agost"
      ]
    },
    {
      "cell_type": "code",
      "execution_count": 48,
      "id": "C4PbmM_qIvuE",
      "metadata": {
        "id": "C4PbmM_qIvuE"
      },
      "outputs": [
        {
          "data": {
            "text/plain": [
              "<AxesSubplot:xlabel='state'>"
            ]
          },
          "execution_count": 48,
          "metadata": {},
          "output_type": "execute_result"
        },
        {
          "data": {
            "image/png": "[encoded data removed]",
            "text/plain": [
              "<Figure size 432x288 with 1 Axes>"
            ]
          },
          "metadata": {
            "needs_background": "light"
          },
          "output_type": "display_data"
        }
      ],
      "source": [
        "data2 = data.query('month== \"Agosto\" or month==\"Junho\" or month ==\"Julho\"')\n",
        "data2 = data2.groupby('state')['number'].sum()\n",
        "data2.plot(x='state',y='month', kind = 'bar')"
      ]
    },
    {
      "cell_type": "markdown",
      "id": "zEkPSpHwVq0u",
      "metadata": {
        "id": "zEkPSpHwVq0u"
      },
      "source": [
        "Volem buscar aquells estats on durant l'any 2017 van ocórrer més de 800 incendis al mes, durant qualsevol dels mesos de l'any. Heu de mostrar per pantalla l'estat, el mes (o els mesos si la condició es compleix en varis mesos) i el nombre total d'incendis enregistrats en el mes corresponent."
      ]
    },
    {
      "cell_type": "code",
      "execution_count": 57,
      "id": "VKF0hKMCV1s8",
      "metadata": {
        "id": "VKF0hKMCV1s8"
      },
      "outputs": [
        {
          "data": {
            "text/plain": [
              "state        month   \n",
              "Amapa        Novembro    858.0\n",
              "Ceara        Novembro    812.0\n",
              "             Outubro     949.0\n",
              "Maranhao     Junho       885.0\n",
              "Mato Grosso  Maio        845.0\n",
              "             Novembro    813.0\n",
              "Paraiba      Agosto      987.0\n",
              "             Julho       891.0\n",
              "Rio          Agosto      819.0\n",
              "             Julho       885.0\n",
              "Sao Paulo    Agosto      981.0\n",
              "             Julho       802.0\n",
              "Name: number, dtype: float64"
            ]
          },
          "execution_count": 57,
          "metadata": {},
          "output_type": "execute_result"
        }
      ],
      "source": [
        "popo= data.query('year==2017 and number>800')\n",
        "estados = popo.groupby(['state','month'])['number'].sum()\n",
        "estados"
      ]
    }
  ],
  "metadata": {
    "colab": {
      "collapsed_sections": [
        "518d4e0f",
        "65103d5f",
        "34780f34"
      ],
      "provenance": []
    },
    "kernelspec": {
      "display_name": "Python 3.9.12 ('base')",
      "language": "python",
      "name": "python3"
    },
    "language_info": {
      "codemirror_mode": {
        "name": "ipython",
        "version": 3
      },
      "file_extension": ".py",
      "mimetype": "text/x-python",
      "name": "python",
      "nbconvert_exporter": "python",
      "pygments_lexer": "ipython3",
      "version": "3.9.12"
    },
    "toc": {
      "base_numbering": 1,
      "nav_menu": {},
      "number_sections": true,
      "sideBar": true,
      "skip_h1_title": false,
      "title_cell": "Table of Contents",
      "title_sidebar": "Contents",
      "toc_cell": false,
      "toc_position": {},
      "toc_section_display": true,
      "toc_window_display": false
    },
    "vscode": {
      "interpreter": {
        "hash": "b85bb42c9c02611e487e1c11dec077a11c836c04ba4eb7a331203022621fe6bf"
      }
    }
  },
  "nbformat": 4,
  "nbformat_minor": 5
}
