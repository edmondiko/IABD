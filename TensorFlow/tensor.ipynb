{
 "cells": [
  {
   "cell_type": "code",
   "execution_count": 22,
   "metadata": {},
   "outputs": [],
   "source": [
    "import tensorflow as tf \n",
    "from tensorflow import keras\n",
    "import numpy as np"
   ]
  },
  {
   "cell_type": "code",
   "execution_count": 23,
   "metadata": {},
   "outputs": [],
   "source": [
    "mnist = tf.keras.datasets.mnist\n",
    "(x_train,y_train), (x_test,y_test) = mnist.load_data()"
   ]
  },
  {
   "cell_type": "code",
   "execution_count": 24,
   "metadata": {},
   "outputs": [
    {
     "name": "stdout",
     "output_type": "stream",
     "text": [
      "(60000, 28, 28)\n",
      "uint8\n"
     ]
    }
   ],
   "source": [
    "print(x_train.shape)\n",
    "print(x_train.dtype)\n",
    "\n"
   ]
  },
  {
   "cell_type": "code",
   "execution_count": 25,
   "metadata": {},
   "outputs": [
    {
     "name": "stdout",
     "output_type": "stream",
     "text": [
      "0\n",
      "[[  0   0   0   0   0   0   0   0   0   0   0   0   0   0   0   0   0   0\n",
      "    0   0   0   0   0   0   0   0   0   0]\n",
      " [  0   0   0   0   0   0   0   0   0   0   0   0   0   0   0   0   0   0\n",
      "    0   0   0   0   0   0   0   0   0   0]\n",
      " [  0   0   0   0   0   0   0   0   0   0   0   0   0   0   0   0   0   0\n",
      "    0   0   0   0   0   0   0   0   0   0]\n",
      " [  0   0   0   0   0   0   0   0   0   0   0   0   0   0   0   0   0   0\n",
      "    0   0   0   0   0   0   0   0   0   0]\n",
      " [  0   0   0   0   0   0   0   0   0   0   8  76 202 254 255 163  37   2\n",
      "    0   0   0   0   0   0   0   0   0   0]\n",
      " [  0   0   0   0   0   0   0   0   0  13 182 253 253 253 253 253 253  23\n",
      "    0   0   0   0   0   0   0   0   0   0]\n",
      " [  0   0   0   0   0   0   0   0  15 179 253 253 212  91 218 253 253 179\n",
      "  109   0   0   0   0   0   0   0   0   0]\n",
      " [  0   0   0   0   0   0   0   0 105 253 253 160  35 156 253 253 253 253\n",
      "  250 113   0   0   0   0   0   0   0   0]\n",
      " [  0   0   0   0   0   0   0  19 212 253 253  88 121 253 233 128  91 245\n",
      "  253 248 114   0   0   0   0   0   0   0]\n",
      " [  0   0   0   0   0   0   0 104 253 253 110   2 142 253  90   0   0  26\n",
      "  199 253 248  63   0   0   0   0   0   0]\n",
      " [  0   0   0   0   0   0   1 173 253 253  29   0  84 228  39   0   0   0\n",
      "   72 251 253 215  29   0   0   0   0   0]\n",
      " [  0   0   0   0   0   0  36 253 253 203  13   0   0   0   0   0   0   0\n",
      "    0  82 253 253 170   0   0   0   0   0]\n",
      " [  0   0   0   0   0   0  36 253 253 164   0   0   0   0   0   0   0   0\n",
      "    0  11 198 253 184   6   0   0   0   0]\n",
      " [  0   0   0   0   0   0  36 253 253  82   0   0   0   0   0   0   0   0\n",
      "    0   0 138 253 253  35   0   0   0   0]\n",
      " [  0   0   0   0   0   0 128 253 253  47   0   0   0   0   0   0   0   0\n",
      "    0   0  48 253 253  35   0   0   0   0]\n",
      " [  0   0   0   0   0   0 154 253 253  47   0   0   0   0   0   0   0   0\n",
      "    0   0  48 253 253  35   0   0   0   0]\n",
      " [  0   0   0   0   0   0 102 253 253  99   0   0   0   0   0   0   0   0\n",
      "    0   0  48 253 253  35   0   0   0   0]\n",
      " [  0   0   0   0   0   0  36 253 253 164   0   0   0   0   0   0   0   0\n",
      "    0  16 208 253 211  17   0   0   0   0]\n",
      " [  0   0   0   0   0   0  32 244 253 175   4   0   0   0   0   0   0   0\n",
      "    0  44 253 253 156   0   0   0   0   0]\n",
      " [  0   0   0   0   0   0   0 171 253 253  29   0   0   0   0   0   0   0\n",
      "   30 217 253 188  19   0   0   0   0   0]\n",
      " [  0   0   0   0   0   0   0 171 253 253  59   0   0   0   0   0   0  60\n",
      "  217 253 253  70   0   0   0   0   0   0]\n",
      " [  0   0   0   0   0   0   0  78 253 253 231  48   0   0   0  26 128 249\n",
      "  253 244  94  15   0   0   0   0   0   0]\n",
      " [  0   0   0   0   0   0   0   8 151 253 253 234 101 121 219 229 253 253\n",
      "  201  80   0   0   0   0   0   0   0   0]\n",
      " [  0   0   0   0   0   0   0   0  38 232 253 253 253 253 253 253 253 201\n",
      "   66   0   0   0   0   0   0   0   0   0]\n",
      " [  0   0   0   0   0   0   0   0   0   0   0   0   0   0   0   0   0   0\n",
      "    0   0   0   0   0   0   0   0   0   0]\n",
      " [  0   0   0   0   0   0   0   0   0   0   0   0   0   0   0   0   0   0\n",
      "    0   0   0   0   0   0   0   0   0   0]\n",
      " [  0   0   0   0   0   0   0   0   0   0   0   0   0   0   0   0   0   0\n",
      "    0   0   0   0   0   0   0   0   0   0]\n",
      " [  0   0   0   0   0   0   0   0   0   0   0   0   0   0   0   0   0   0\n",
      "    0   0   0   0   0   0   0   0   0   0]]\n"
     ]
    }
   ],
   "source": [
    "print(y_train[88])\n",
    "print(x_train[88])"
   ]
  },
  {
   "cell_type": "code",
   "execution_count": 26,
   "metadata": {},
   "outputs": [
    {
     "data": {
      "text/plain": [
       "<matplotlib.image.AxesImage at 0x1bed5a0d5e0>"
      ]
     },
     "execution_count": 26,
     "metadata": {},
     "output_type": "execute_result"
    },
    {
     "data": {
      "image/png": "[encoded data removed]",
      "text/plain": [
       "<Figure size 432x288 with 1 Axes>"
      ]
     },
     "metadata": {
      "needs_background": "light"
     },
     "output_type": "display_data"
    }
   ],
   "source": [
    "import matplotlib.pyplot as plt \n",
    "plt.imshow(x_train[6969],cmap=plt.cm.binary)"
   ]
  },
  {
   "cell_type": "code",
   "execution_count": 27,
   "metadata": {},
   "outputs": [
    {
     "name": "stdout",
     "output_type": "stream",
     "text": [
      "[[0.         0.         0.         0.         0.         0.\n",
      "  0.         0.         0.         0.         0.         0.\n",
      "  0.         0.         0.         0.         0.         0.\n",
      "  0.         0.         0.         0.         0.         0.\n",
      "  0.         0.         0.         0.        ]\n",
      " [0.         0.         0.         0.         0.         0.\n",
      "  0.         0.         0.         0.         0.         0.\n",
      "  0.         0.         0.         0.         0.         0.\n",
      "  0.         0.         0.         0.         0.         0.\n",
      "  0.         0.         0.         0.        ]\n",
      " [0.         0.         0.         0.         0.         0.\n",
      "  0.         0.         0.         0.         0.         0.\n",
      "  0.         0.         0.         0.         0.         0.\n",
      "  0.         0.         0.         0.         0.         0.\n",
      "  0.         0.         0.         0.        ]\n",
      " [0.         0.         0.         0.         0.         0.\n",
      "  0.         0.         0.         0.         0.         0.\n",
      "  0.         0.         0.         0.         0.         0.\n",
      "  0.         0.         0.         0.         0.         0.\n",
      "  0.         0.         0.         0.        ]\n",
      " [0.         0.         0.         0.         0.         0.\n",
      "  0.         0.         0.         0.         0.         0.05882353\n",
      "  0.5411765  0.7882353  0.99215686 1.         0.9098039  0.41960785\n",
      "  0.01960784 0.         0.         0.         0.         0.\n",
      "  0.         0.         0.         0.        ]\n",
      " [0.         0.         0.         0.         0.         0.\n",
      "  0.         0.         0.         0.         0.05882353 0.85882354\n",
      "  0.9882353  0.9882353  0.8235294  0.8117647  0.8392157  0.9882353\n",
      "  0.46666667 0.         0.         0.         0.         0.\n",
      "  0.         0.         0.         0.        ]\n",
      " [0.         0.         0.         0.         0.         0.\n",
      "  0.         0.         0.         0.         0.5411765  0.9882353\n",
      "  0.9137255  0.34901962 0.02352941 0.         0.05098039 0.7921569\n",
      "  0.5019608  0.         0.         0.         0.         0.\n",
      "  0.         0.         0.         0.        ]\n",
      " [0.         0.         0.         0.         0.         0.\n",
      "  0.         0.         0.         0.16862746 0.99215686 0.9882353\n",
      "  0.7176471  0.         0.         0.         0.         0.62352943\n",
      "  0.11372549 0.         0.         0.         0.         0.\n",
      "  0.         0.         0.         0.        ]\n",
      " [0.         0.         0.         0.         0.         0.\n",
      "  0.         0.         0.         0.45490196 0.99215686 0.9882353\n",
      "  0.30980393 0.         0.         0.         0.         0.24705882\n",
      "  0.16862746 0.8627451  0.41568628 0.         0.         0.\n",
      "  0.         0.         0.         0.        ]\n",
      " [0.         0.         0.         0.         0.         0.\n",
      "  0.         0.         0.         0.45490196 1.         0.9098039\n",
      "  0.14901961 0.         0.         0.         0.         0.02745098\n",
      "  0.83137256 0.99215686 0.90588236 0.         0.         0.\n",
      "  0.         0.         0.         0.        ]\n",
      " [0.         0.         0.         0.         0.         0.\n",
      "  0.         0.         0.         0.16470589 0.99215686 0.9882353\n",
      "  0.6039216  0.11764706 0.         0.         0.03529412 0.60784316\n",
      "  0.9882353  0.9882353  0.9019608  0.         0.         0.\n",
      "  0.         0.         0.         0.        ]\n",
      " [0.         0.         0.         0.         0.         0.\n",
      "  0.         0.         0.         0.         0.87058824 0.9882353\n",
      "  0.9882353  0.8901961  0.72156864 0.5176471  0.77254903 0.9882353\n",
      "  0.9882353  0.9882353  0.78039217 0.         0.         0.\n",
      "  0.         0.         0.         0.        ]\n",
      " [0.         0.         0.         0.         0.         0.\n",
      "  0.         0.         0.         0.         0.09803922 0.46666667\n",
      "  0.627451   0.9254902  0.9882353  0.99215686 0.9882353  0.8901961\n",
      "  0.627451   0.95686275 0.45490196 0.         0.         0.\n",
      "  0.         0.         0.         0.        ]\n",
      " [0.         0.         0.         0.         0.         0.\n",
      "  0.         0.         0.         0.         0.61960787 0.\n",
      "  0.         0.23921569 0.33333334 0.29411766 0.08627451 0.0627451\n",
      "  0.         0.69803923 0.8627451  0.         0.         0.\n",
      "  0.         0.         0.         0.        ]\n",
      " [0.         0.         0.         0.         0.         0.\n",
      "  0.         0.         0.03529412 0.5019608  0.04313726 0.\n",
      "  0.         0.         0.         0.         0.         0.\n",
      "  0.         0.90588236 0.90588236 0.         0.         0.\n",
      "  0.         0.         0.         0.        ]\n",
      " [0.         0.         0.         0.         0.         0.\n",
      "  0.         0.         0.3647059  0.9882353  0.45490196 0.\n",
      "  0.         0.         0.         0.         0.         0.\n",
      "  0.         0.6156863  0.9019608  0.         0.         0.\n",
      "  0.         0.         0.         0.        ]\n",
      " [0.         0.         0.         0.         0.         0.\n",
      "  0.         0.         0.3647059  0.9882353  0.45490196 0.\n",
      "  0.         0.         0.         0.         0.         0.\n",
      "  0.         0.45490196 0.92941177 0.09803922 0.         0.\n",
      "  0.         0.         0.         0.        ]\n",
      " [0.         0.         0.         0.         0.         0.\n",
      "  0.         0.         0.5254902  0.9882353  0.24705882 0.\n",
      "  0.         0.         0.         0.         0.         0.\n",
      "  0.         0.45490196 0.91764706 0.06666667 0.         0.\n",
      "  0.         0.         0.         0.        ]\n",
      " [0.         0.         0.         0.         0.         0.\n",
      "  0.         0.         0.40392157 0.9882353  0.45490196 0.\n",
      "  0.         0.         0.         0.         0.         0.\n",
      "  0.         0.8627451  0.94509804 0.16470589 0.         0.\n",
      "  0.         0.         0.         0.        ]\n",
      " [0.         0.         0.         0.         0.         0.\n",
      "  0.         0.         0.3647059  0.99215686 0.95686275 0.23921569\n",
      "  0.         0.         0.         0.         0.         0.14901961\n",
      "  0.9137255  0.99215686 0.8666667  0.         0.         0.\n",
      "  0.         0.         0.         0.        ]\n",
      " [0.         0.         0.         0.         0.         0.\n",
      "  0.         0.         0.13333334 0.8509804  0.99215686 0.9254902\n",
      "  0.5058824  0.03529412 0.         0.         0.11764706 0.60784316\n",
      "  0.9882353  0.90588236 0.16470589 0.         0.         0.\n",
      "  0.         0.         0.         0.        ]\n",
      " [0.         0.         0.         0.         0.         0.\n",
      "  0.         0.         0.         0.32941177 0.99215686 0.9882353\n",
      "  0.9882353  0.76862746 0.3137255  0.7254902  0.89411765 0.9882353\n",
      "  0.8901961  0.5137255  0.         0.         0.         0.\n",
      "  0.         0.         0.         0.        ]\n",
      " [0.         0.         0.         0.         0.         0.\n",
      "  0.         0.         0.         0.         0.21960784 0.85882354\n",
      "  0.9882353  0.9882353  0.9882353  0.99215686 0.9882353  0.9882353\n",
      "  0.46666667 0.08235294 0.         0.         0.         0.\n",
      "  0.         0.         0.         0.        ]\n",
      " [0.         0.         0.         0.         0.         0.\n",
      "  0.         0.         0.         0.         0.         0.05882353\n",
      "  0.21176471 0.7019608  0.5764706  0.74509805 0.45882353 0.08627451\n",
      "  0.01568628 0.         0.         0.         0.         0.\n",
      "  0.         0.         0.         0.        ]\n",
      " [0.         0.         0.         0.         0.         0.\n",
      "  0.         0.         0.         0.         0.         0.\n",
      "  0.         0.         0.         0.         0.         0.\n",
      "  0.         0.         0.         0.         0.         0.\n",
      "  0.         0.         0.         0.        ]\n",
      " [0.         0.         0.         0.         0.         0.\n",
      "  0.         0.         0.         0.         0.         0.\n",
      "  0.         0.         0.         0.         0.         0.\n",
      "  0.         0.         0.         0.         0.         0.\n",
      "  0.         0.         0.         0.        ]\n",
      " [0.         0.         0.         0.         0.         0.\n",
      "  0.         0.         0.         0.         0.         0.\n",
      "  0.         0.         0.         0.         0.         0.\n",
      "  0.         0.         0.         0.         0.         0.\n",
      "  0.         0.         0.         0.        ]\n",
      " [0.         0.         0.         0.         0.         0.\n",
      "  0.         0.         0.         0.         0.         0.\n",
      "  0.         0.         0.         0.         0.         0.\n",
      "  0.         0.         0.         0.         0.         0.\n",
      "  0.         0.         0.         0.        ]]\n"
     ]
    }
   ],
   "source": [
    "x_train = x_train.astype(np.float32)\n",
    "x_test = x_test.astype(np.float32)\n",
    "\n",
    "x_train.dtype\n",
    "\n",
    "x_train /= 255\n",
    "x_test = y_test / 255\n",
    "\n",
    "print(x_train[80])"
   ]
  },
  {
   "cell_type": "code",
   "execution_count": 28,
   "metadata": {},
   "outputs": [
    {
     "name": "stdout",
     "output_type": "stream",
     "text": [
      "(60000, 784)\n",
      "(10000,)\n"
     ]
    }
   ],
   "source": [
    "x_train = x_train.reshape(60000,784)\n",
    "#x_test = x_test.reshape(10000,784)\n",
    "\n",
    "print(x_train.shape)\n",
    "print(x_test.shape)\n",
    "\n"
   ]
  },
  {
   "cell_type": "code",
   "execution_count": 29,
   "metadata": {},
   "outputs": [
    {
     "name": "stdout",
     "output_type": "stream",
     "text": [
      "[0. 0. 0. 0. 0. 0. 1. 0. 0. 0.]\n"
     ]
    }
   ],
   "source": [
    "from tensorflow.keras.utils import to_categorical\n",
    "\n",
    "y_train= to_categorical(y_train,num_classes=10)\n",
    "y_test= to_categorical(y_test,num_classes=10)\n",
    "\n",
    "print(y_train[90])"
   ]
  }
 ],
 "metadata": {
  "kernelspec": {
   "display_name": "Python 3.9.12 ('base')",
   "language": "python",
   "name": "python3"
  },
  "language_info": {
   "codemirror_mode": {
    "name": "ipython",
    "version": 3
   },
   "file_extension": ".py",
   "mimetype": "text/x-python",
   "name": "python",
   "nbconvert_exporter": "python",
   "pygments_lexer": "ipython3",
   "version": "3.9.12"
  },
  "orig_nbformat": 4,
  "vscode": {
   "interpreter": {
    "hash": "b85bb42c9c02611e487e1c11dec077a11c836c04ba4eb7a331203022621fe6bf"
   }
  }
 },
 "nbformat": 4,
 "nbformat_minor": 2
}
